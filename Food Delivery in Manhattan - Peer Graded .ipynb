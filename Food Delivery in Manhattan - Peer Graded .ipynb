{
    "cells": [
        {
            "cell_type": "markdown",
            "metadata": {
                "collapsed": true
            },
            "source": " <h1><center> Food Delivery in Manhattan </center></h1>"
        },
        {
            "cell_type": "markdown",
            "metadata": {},
            "source": "## 1. Problem Definition "
        },
        {
            "cell_type": "markdown",
            "metadata": {},
            "source": "A food delivery company has decided to open a new office in Manhattan. They hired a data scientist in order to find the most suitable location of this new office, in which the shipment costs are minimized and the demand of food delivery is high.\nThis project will explore where the highest concentration of restaurants is located. This minimizes the shipment costs (since we would have an higher number of venues close to our new office) and improves the productivity, since the single shipment requires less time and more shipments can be done in the same time interval.\nWe will also look at the highest average score of each cluster of restaurants, since each costumer is likely to order from an higher rated restaurant (in terms of \nvalue for money)."
        },
        {
            "cell_type": "markdown",
            "metadata": {},
            "source": "## 2. Data \n"
        },
        {
            "cell_type": "markdown",
            "metadata": {},
            "source": "The data necessary to accomplish my Data Science Task are the one of FourSquare. Using an API call, I will retrieve a Json file containing all the venues and convert it into a Pandas dataframe. Those data already contains position of the restaurants and their scores, as well as the number of reviews. Then I will create several clusters depending on the area that the Food Delivery company is willing to cover, and evaluate the best location to place the new office based on the FourSquare data (as described in the problem definition)."
        },
        {
            "cell_type": "code",
            "execution_count": null,
            "metadata": {},
            "outputs": [],
            "source": ""
        }
    ],
    "metadata": {
        "kernelspec": {
            "display_name": "Python 3.6",
            "language": "python",
            "name": "python3"
        },
        "language_info": {
            "codemirror_mode": {
                "name": "ipython",
                "version": 3
            },
            "file_extension": ".py",
            "mimetype": "text/x-python",
            "name": "python",
            "nbconvert_exporter": "python",
            "pygments_lexer": "ipython3",
            "version": "3.6.9"
        }
    },
    "nbformat": 4,
    "nbformat_minor": 1
}